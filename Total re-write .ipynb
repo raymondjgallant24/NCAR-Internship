{
 "cells": [
  {
   "cell_type": "code",
   "execution_count": 49,
   "id": "e90980ee-9de5-40ff-a677-ac1fb65fdce2",
   "metadata": {},
   "outputs": [],
   "source": [
    "import xarray as xr\n",
    "import numpy as np\n",
    "import pandas as pd\n",
    "import matplotlib as mpl \n",
    "import time\n",
    "import random "
   ]
  },
  {
   "cell_type": "code",
   "execution_count": 50,
   "id": "16b1fa0c-b360-4699-acd3-f9003df23dd8",
   "metadata": {},
   "outputs": [
    {
     "data": {
      "text/plain": [
       "58.05107537885283"
      ]
     },
     "execution_count": 50,
     "metadata": {},
     "output_type": "execute_result"
    }
   ],
   "source": [
    "def rand_lat_values():\n",
    "    test_lat = random.uniform(-90, 90)\n",
    "    return test_lat\n",
    "    print(test_lat)\n",
    "rand_lat_values()"
   ]
  },
  {
   "cell_type": "code",
   "execution_count": 51,
   "id": "4da5ebf3-fd6b-4b86-b5d0-14765b29b175",
   "metadata": {},
   "outputs": [
    {
     "data": {
      "text/plain": [
       "-158.28643639088915"
      ]
     },
     "execution_count": 51,
     "metadata": {},
     "output_type": "execute_result"
    }
   ],
   "source": [
    "def rand_lon_values():\n",
    "    test_lon = random.uniform(-180, 180)\n",
    "    return test_lon\n",
    "    print(test_lon)\n",
    "rand_lon_values()"
   ]
  },
  {
   "cell_type": "code",
   "execution_count": 52,
   "id": "7513bb99-bb5e-4486-ab72-049ba3810b5d",
   "metadata": {},
   "outputs": [],
   "source": [
    "def gen_test_case(test_lat, test_lon):\n",
    "    test_case = {\n",
    "            \"name\": \"Testing\",\n",
    "            \"birthday\": \"11/12/2014\",\n",
    "            \"lat\": test_lat,\n",
    "            \"lon\": test_lon\n",
    "        }\n",
    "    print(test_case)\n",
    "    return test_case "
   ]
  },
  {
   "cell_type": "code",
   "execution_count": 53,
   "id": "d2af0506-4903-48e3-8af3-91c4e3797a3f",
   "metadata": {},
   "outputs": [
    {
     "name": "stdout",
     "output_type": "stream",
     "text": [
      "{'name': 'Testing', 'birthday': '11/12/2014', 'lat': 18.136241856696856, 'lon': -114.60087828529677}\n"
     ]
    }
   ],
   "source": [
    "test_lat = rand_lat_values()\n",
    "test_lon = rand_lon_values()\n",
    "test_case = gen_test_case(test_lat, test_lon)\n"
   ]
  },
  {
   "cell_type": "code",
   "execution_count": 54,
   "id": "15f4a3b5-139f-4ae7-96f7-9e7c8e83108f",
   "metadata": {},
   "outputs": [],
   "source": [
    "def load_dataset():\n",
    "    ds = xr.tutorial.load_dataset(\"air_temperature\")\n",
    "    return ds\n",
    "    "
   ]
  },
  {
   "cell_type": "code",
   "execution_count": 55,
   "id": "62ba304a-5de0-49b0-9319-6834be32eb47",
   "metadata": {},
   "outputs": [],
   "source": [
    "def get_birthday_temp(ds, test_case):\n",
    "    # Convert ['birthday'] into a Datetime object\n",
    "    date = pd.to_datetime(test_case['birthday'])\n",
    "    \n",
    "    # Select the data for user_lat and user_lon first\n",
    "    temp_at_location = ds.sel(lat=float(test_case['lat']), lon=float(test_case['lon']), method='nearest')\n",
    "    \n",
    "    # Now subset the data by the Datetime object\n",
    "    temp_on_date = temp_at_location.sel(time=date, method='nearest')\n",
    "    \n",
    "    # Now we extract the air temp values\n",
    "    air_temp = temp_on_date['air'].item() \n",
    "    air_temp = (air_temp - 273.15)  * 1.8 +32\n",
    "    \n",
    "    \n",
    "    return air_temp"
   ]
  },
  {
   "cell_type": "code",
   "execution_count": 69,
   "id": "a0e9e203-ef8d-49ac-81a5-874bc38177ed",
   "metadata": {},
   "outputs": [
    {
     "ename": "NameError",
     "evalue": "name 'ds' is not defined",
     "output_type": "error",
     "traceback": [
      "\u001b[0;31m---------------------------------------------------------------------------\u001b[0m",
      "\u001b[0;31mNameError\u001b[0m                                 Traceback (most recent call last)",
      "Cell \u001b[0;32mIn[69], line 45\u001b[0m\n\u001b[1;32m     42\u001b[0m         total_time \u001b[38;5;241m+\u001b[39m\u001b[38;5;241m=\u001b[39m end_time \u001b[38;5;241m-\u001b[39m start_time\n\u001b[1;32m     43\u001b[0m         \u001b[38;5;28mprint\u001b[39m(\u001b[38;5;124mf\u001b[39m\u001b[38;5;124m\"\u001b[39m\u001b[38;5;124mThe average time to execute is \u001b[39m\u001b[38;5;132;01m{\u001b[39;00mtotal_time\u001b[38;5;132;01m}\u001b[39;00m\u001b[38;5;124m\"\u001b[39m)\n\u001b[0;32m---> 45\u001b[0m \u001b[43mrun_benchmark\u001b[49m\u001b[43m(\u001b[49m\u001b[43m)\u001b[49m \n",
      "Cell \u001b[0;32mIn[69], line 40\u001b[0m, in \u001b[0;36mrun_benchmark\u001b[0;34m()\u001b[0m\n\u001b[1;32m     38\u001b[0m \u001b[38;5;28;01mfor\u001b[39;00m i \u001b[38;5;129;01min\u001b[39;00m \u001b[38;5;28mrange\u001b[39m(iterations):\n\u001b[1;32m     39\u001b[0m     start_time \u001b[38;5;241m=\u001b[39m time\u001b[38;5;241m.\u001b[39mtime()\n\u001b[0;32m---> 40\u001b[0m     air_temp \u001b[38;5;241m=\u001b[39m get_birthday_temp(\u001b[43mds\u001b[49m, user_info)\n\u001b[1;32m     41\u001b[0m     end_time \u001b[38;5;241m=\u001b[39m time\u001b[38;5;241m.\u001b[39mtime()\n\u001b[1;32m     42\u001b[0m     total_time \u001b[38;5;241m+\u001b[39m\u001b[38;5;241m=\u001b[39m end_time \u001b[38;5;241m-\u001b[39m start_time\n",
      "\u001b[0;31mNameError\u001b[0m: name 'ds' is not defined"
     ]
    }
   ],
   "source": [
    "def run_benchmark():\n",
    "    \n",
    "\n",
    "    def rand_lat_values():\n",
    "        test_lat = random.uniform(-90, 90)\n",
    "        return test_lat\n",
    "        print(test_lat)\n",
    "    rand_lat_values()\n",
    "\n",
    "    def rand_lon_values():\n",
    "        test_lon = random.uniform(-180, 180)\n",
    "        return test_lon\n",
    "        print(test_lon)\n",
    "    rand_lon_values()\n",
    "\n",
    "    def load_dataset():\n",
    "        ds = xr.tutorial.load_dataset(\"air_temperature\")\n",
    "        return ds\n",
    "    \n",
    "    def get_birthday_temp(ds, test_case):\n",
    "        # Convert ['birthday'] into a Datetime object\n",
    "        date = pd.to_datetime(test_case['birthday'])\n",
    "    \n",
    "    # Select the data for user_lat and user_lon first\n",
    "        temp_at_location = ds.sel(lat=float(test_case['lat']), lon=float(test_case['lon']), method='nearest')\n",
    "    \n",
    "    # Now subset the data by the Datetime object\n",
    "        temp_on_date = temp_at_location.sel(time=date, method='nearest')\n",
    "    \n",
    "    # Now we extract the air temp values\n",
    "        air_temp = temp_on_date['air'].item() \n",
    "        air_temp = (air_temp - 273.15)  * 1.8 +32\n",
    "    \n",
    "    \n",
    "        return air_temp\n",
    "        \n",
    "    iterations = 1000\n",
    "    for i in range(iterations):\n",
    "        start_time = time.time()\n",
    "        air_temp = get_birthday_temp(ds, user_info)\n",
    "        end_time = time.time()\n",
    "        total_time += end_time - start_time\n",
    "        print(f\"The average time to execute is {total_time}\")\n",
    "    \n",
    "run_benchmark() "
   ]
  },
  {
   "cell_type": "code",
   "execution_count": 63,
   "id": "8a323252-ef92-43e0-9ec8-402c21fbf478",
   "metadata": {},
   "outputs": [
    {
     "name": "stdout",
     "output_type": "stream",
     "text": [
      "The average air temperature on Testing's birthday (11/12/2014) at the location of (18.136241856696856, -114.60087828529677) was 77.43 degrees Fahrenheit.\n",
      " The total execution time is 0.0236034393 seconds\n"
     ]
    }
   ],
   "source": [
    "def main():\n",
    "    start_time = time.time()\n",
    "\n",
    "    user_info = test_case\n",
    "\n",
    "\n",
    "    ds = load_dataset()\n",
    "\n",
    "    #air_temp = get_birthday_temp(ds, user_info)\n",
    "    air_temp = get_birthday_temp(ds, test_case)\n",
    "    print(f\"The average air temperature on {user_info['name']}'s birthday ({user_info['birthday']}) at the location of ({user_info['lat']}, {user_info['lon']}) was {air_temp:.2f} degrees Fahrenheit.\")\n",
    "\n",
    "    end_time=time.time()\n",
    "\n",
    "    total_time = end_time - start_time\n",
    "    print(f\" The total execution time is {total_time:.10f} seconds\")\n",
    "\n",
    "if __name__ == \"__main__\":\n",
    "    main()\n",
    "    "
   ]
  },
  {
   "cell_type": "code",
   "execution_count": null,
   "id": "f8c96777-9b00-4892-a7c1-3a1e0bd32cb2",
   "metadata": {},
   "outputs": [],
   "source": []
  },
  {
   "cell_type": "code",
   "execution_count": null,
   "id": "a69dcb30-d4a5-44f0-9870-46ba9bc1ed27",
   "metadata": {},
   "outputs": [],
   "source": []
  }
 ],
 "metadata": {
  "kernelspec": {
   "display_name": "NPL 2023a",
   "language": "python",
   "name": "npl-2023a"
  },
  "language_info": {
   "codemirror_mode": {
    "name": "ipython",
    "version": 3
   },
   "file_extension": ".py",
   "mimetype": "text/x-python",
   "name": "python",
   "nbconvert_exporter": "python",
   "pygments_lexer": "ipython3",
   "version": "3.9.16"
  }
 },
 "nbformat": 4,
 "nbformat_minor": 5
}
